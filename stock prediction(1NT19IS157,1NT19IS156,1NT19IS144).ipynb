{
 "cells": [
  {
   "cell_type": "code",
   "execution_count": 1,
   "id": "978318a7",
   "metadata": {},
   "outputs": [
    {
     "name": "stdout",
     "output_type": "stream",
     "text": [
      "Requirement already satisfied: pandas in c:\\programdata\\anaconda3\\envs\\tensorflow\\lib\\site-packages (1.5.2)\n",
      "Requirement already satisfied: pytz>=2020.1 in c:\\programdata\\anaconda3\\envs\\tensorflow\\lib\\site-packages (from pandas) (2022.7)\n",
      "Requirement already satisfied: numpy>=1.21.0 in c:\\programdata\\anaconda3\\envs\\tensorflow\\lib\\site-packages (from pandas) (1.23.4)\n",
      "Requirement already satisfied: python-dateutil>=2.8.1 in c:\\programdata\\anaconda3\\envs\\tensorflow\\lib\\site-packages (from pandas) (2.8.2)\n",
      "Requirement already satisfied: six>=1.5 in c:\\programdata\\anaconda3\\envs\\tensorflow\\lib\\site-packages (from python-dateutil>=2.8.1->pandas) (1.16.0)\n",
      "Note: you may need to restart the kernel to use updated packages.\n"
     ]
    }
   ],
   "source": [
    "pip install pandas\n",
    "#installing required library"
   ]
  },
  {
   "cell_type": "code",
   "execution_count": 2,
   "id": "b281dac4",
   "metadata": {},
   "outputs": [
    {
     "name": "stdout",
     "output_type": "stream",
     "text": [
      "Requirement already satisfied: matplotlib in c:\\programdata\\anaconda3\\envs\\tensorflow\\lib\\site-packages (3.6.2)\n",
      "Requirement already satisfied: kiwisolver>=1.0.1 in c:\\programdata\\anaconda3\\envs\\tensorflow\\lib\\site-packages (from matplotlib) (1.4.4)\n",
      "Requirement already satisfied: pillow>=6.2.0 in c:\\programdata\\anaconda3\\envs\\tensorflow\\lib\\site-packages (from matplotlib) (9.3.0)\n",
      "Requirement already satisfied: numpy>=1.19 in c:\\programdata\\anaconda3\\envs\\tensorflow\\lib\\site-packages (from matplotlib) (1.23.4)\n",
      "Requirement already satisfied: cycler>=0.10 in c:\\programdata\\anaconda3\\envs\\tensorflow\\lib\\site-packages (from matplotlib) (0.11.0)\n",
      "Requirement already satisfied: pyparsing>=2.2.1 in c:\\programdata\\anaconda3\\envs\\tensorflow\\lib\\site-packages (from matplotlib) (3.0.9)\n",
      "Requirement already satisfied: python-dateutil>=2.7 in c:\\programdata\\anaconda3\\envs\\tensorflow\\lib\\site-packages (from matplotlib) (2.8.2)\n",
      "Requirement already satisfied: fonttools>=4.22.0 in c:\\programdata\\anaconda3\\envs\\tensorflow\\lib\\site-packages (from matplotlib) (4.38.0)\n",
      "Requirement already satisfied: packaging>=20.0 in c:\\programdata\\anaconda3\\envs\\tensorflow\\lib\\site-packages (from matplotlib) (22.0)\n",
      "Requirement already satisfied: contourpy>=1.0.1 in c:\\programdata\\anaconda3\\envs\\tensorflow\\lib\\site-packages (from matplotlib) (1.0.6)\n",
      "Requirement already satisfied: six>=1.5 in c:\\programdata\\anaconda3\\envs\\tensorflow\\lib\\site-packages (from python-dateutil>=2.7->matplotlib) (1.16.0)\n",
      "Note: you may need to restart the kernel to use updated packages.\n"
     ]
    }
   ],
   "source": [
    "pip install matplotlib"
   ]
  },
  {
   "cell_type": "code",
   "execution_count": 3,
   "id": "f3f23ad4",
   "metadata": {},
   "outputs": [
    {
     "name": "stdout",
     "output_type": "stream",
     "text": [
      "Requirement already satisfied: seaborn in c:\\programdata\\anaconda3\\envs\\tensorflow\\lib\\site-packages (0.12.1)Note: you may need to restart the kernel to use updated packages.\n",
      "\n",
      "Requirement already satisfied: pandas>=0.25 in c:\\programdata\\anaconda3\\envs\\tensorflow\\lib\\site-packages (from seaborn) (1.5.2)\n",
      "Requirement already satisfied: numpy>=1.17 in c:\\programdata\\anaconda3\\envs\\tensorflow\\lib\\site-packages (from seaborn) (1.23.4)\n",
      "Requirement already satisfied: matplotlib!=3.6.1,>=3.1 in c:\\programdata\\anaconda3\\envs\\tensorflow\\lib\\site-packages (from seaborn) (3.6.2)\n",
      "Requirement already satisfied: pillow>=6.2.0 in c:\\programdata\\anaconda3\\envs\\tensorflow\\lib\\site-packages (from matplotlib!=3.6.1,>=3.1->seaborn) (9.3.0)\n",
      "Requirement already satisfied: contourpy>=1.0.1 in c:\\programdata\\anaconda3\\envs\\tensorflow\\lib\\site-packages (from matplotlib!=3.6.1,>=3.1->seaborn) (1.0.6)\n",
      "Requirement already satisfied: python-dateutil>=2.7 in c:\\programdata\\anaconda3\\envs\\tensorflow\\lib\\site-packages (from matplotlib!=3.6.1,>=3.1->seaborn) (2.8.2)\n",
      "Requirement already satisfied: fonttools>=4.22.0 in c:\\programdata\\anaconda3\\envs\\tensorflow\\lib\\site-packages (from matplotlib!=3.6.1,>=3.1->seaborn) (4.38.0)\n",
      "Requirement already satisfied: kiwisolver>=1.0.1 in c:\\programdata\\anaconda3\\envs\\tensorflow\\lib\\site-packages (from matplotlib!=3.6.1,>=3.1->seaborn) (1.4.4)\n",
      "Requirement already satisfied: pyparsing>=2.2.1 in c:\\programdata\\anaconda3\\envs\\tensorflow\\lib\\site-packages (from matplotlib!=3.6.1,>=3.1->seaborn) (3.0.9)\n",
      "Requirement already satisfied: cycler>=0.10 in c:\\programdata\\anaconda3\\envs\\tensorflow\\lib\\site-packages (from matplotlib!=3.6.1,>=3.1->seaborn) (0.11.0)\n",
      "Requirement already satisfied: packaging>=20.0 in c:\\programdata\\anaconda3\\envs\\tensorflow\\lib\\site-packages (from matplotlib!=3.6.1,>=3.1->seaborn) (22.0)\n",
      "Requirement already satisfied: pytz>=2020.1 in c:\\programdata\\anaconda3\\envs\\tensorflow\\lib\\site-packages (from pandas>=0.25->seaborn) (2022.7)\n",
      "Requirement already satisfied: six>=1.5 in c:\\programdata\\anaconda3\\envs\\tensorflow\\lib\\site-packages (from python-dateutil>=2.7->matplotlib!=3.6.1,>=3.1->seaborn) (1.16.0)\n"
     ]
    }
   ],
   "source": [
    "pip install seaborn"
   ]
  },
  {
   "cell_type": "code",
   "execution_count": 5,
   "id": "b2ed829a",
   "metadata": {},
   "outputs": [
    {
     "name": "stdout",
     "output_type": "stream",
     "text": [
      "Collecting sklearn\n",
      "  Using cached sklearn-0.0.post1.tar.gz (3.6 kB)\n",
      "  Preparing metadata (setup.py): started\n",
      "  Preparing metadata (setup.py): finished with status 'done'\n",
      "Building wheels for collected packages: sklearn\n",
      "  Building wheel for sklearn (setup.py): started\n",
      "  Building wheel for sklearn (setup.py): finished with status 'done'\n",
      "  Created wheel for sklearn: filename=sklearn-0.0.post1-py3-none-any.whl size=2936 sha256=79a0c8e3f36b653917ba30c69bf49f9e78e2deaff8f7a832165026a245fbdd98\n",
      "  Stored in directory: c:\\users\\bhavani a\\appdata\\local\\pip\\cache\\wheels\\db\\9f\\0b\\772886b624f84c138a5febb6966c89d374ab58c62bd65d109e\n",
      "Successfully built sklearn\n",
      "Installing collected packages: sklearn\n",
      "Successfully installed sklearn-0.0.post1\n",
      "Note: you may need to restart the kernel to use updated packages.\n"
     ]
    }
   ],
   "source": [
    "pip install sklearn"
   ]
  },
  {
   "cell_type": "code",
   "execution_count": 5,
   "id": "0559dbc6",
   "metadata": {},
   "outputs": [
    {
     "name": "stdout",
     "output_type": "stream",
     "text": [
      "Collecting package metadata (current_repodata.json): ...working... done\n",
      "Note: you may need to restart the kernel to use updated packages.\n",
      "\n",
      "Solving environment: ...working... done\n",
      "\n",
      "## Package Plan ##\n",
      "\n",
      "  environment location: C:\\ProgramData\\Anaconda3\\envs\\tensorflow\n",
      "\n",
      "  added / updated specs:\n",
      "    - scikit-learn\n",
      "\n",
      "\n",
      "The following packages will be downloaded:\n",
      "\n",
      "    package                    |            build\n",
      "    ---------------------------|-----------------\n",
      "    joblib-1.1.1               |  py310haa95532_0         387 KB\n",
      "    scikit-learn-1.1.3         |  py310hd77b12b_0         6.3 MB\n",
      "    ------------------------------------------------------------\n",
      "                                           Total:         6.7 MB\n",
      "\n",
      "The following NEW packages will be INSTALLED:\n",
      "\n",
      "  joblib             pkgs/main/win-64::joblib-1.1.1-py310haa95532_0 \n",
      "  scikit-learn       pkgs/main/win-64::scikit-learn-1.1.3-py310hd77b12b_0 \n",
      "  threadpoolctl      pkgs/main/noarch::threadpoolctl-2.2.0-pyh0d69192_0 \n",
      "\n",
      "\n",
      "\n",
      "Downloading and Extracting Packages\n",
      "\n",
      "joblib-1.1.1         | 387 KB    |            |   0% \n",
      "\n",
      "scikit-learn-1.1.3   | 6.3 MB    |            |   0% \u001b[A\n",
      "joblib-1.1.1         | 387 KB    | 4          |   4% \n",
      "\n",
      "scikit-learn-1.1.3   | 6.3 MB    |            |   0% \u001b[A\n",
      "joblib-1.1.1         | 387 KB    | 8          |   8% \n",
      "\n",
      "scikit-learn-1.1.3   | 6.3 MB    |            |   0% \u001b[A\n",
      "joblib-1.1.1         | 387 KB    | #2         |  12% \n",
      "\n",
      "scikit-learn-1.1.3   | 6.3 MB    |            |   1% \u001b[A\n",
      "joblib-1.1.1         | 387 KB    | #6         |  17% \n",
      "\n",
      "scikit-learn-1.1.3   | 6.3 MB    |            |   1% \u001b[A\n",
      "\n",
      "scikit-learn-1.1.3   | 6.3 MB    | 1          |   1% \u001b[A\n",
      "joblib-1.1.1         | 387 KB    | ##         |  21% \n",
      "\n",
      "scikit-learn-1.1.3   | 6.3 MB    | 1          |   1% \u001b[A\n",
      "joblib-1.1.1         | 387 KB    | ##4        |  25% \n",
      "\n",
      "scikit-learn-1.1.3   | 6.3 MB    | 1          |   2% \u001b[A\n",
      "joblib-1.1.1         | 387 KB    | ##8        |  29% \n",
      "\n",
      "scikit-learn-1.1.3   | 6.3 MB    | 1          |   2% \u001b[A\n",
      "joblib-1.1.1         | 387 KB    | ###3       |  33% \n",
      "\n",
      "scikit-learn-1.1.3   | 6.3 MB    | 2          |   2% \u001b[A\n",
      "joblib-1.1.1         | 387 KB    | ###7       |  37% \n",
      "\n",
      "scikit-learn-1.1.3   | 6.3 MB    | 2          |   2% \u001b[A\n",
      "\n",
      "scikit-learn-1.1.3   | 6.3 MB    | 2          |   3% \u001b[A\n",
      "\n",
      "scikit-learn-1.1.3   | 6.3 MB    | 3          |   3% \u001b[A\n",
      "joblib-1.1.1         | 387 KB    | ####1      |  41% \n",
      "\n",
      "scikit-learn-1.1.3   | 6.3 MB    | 3          |   3% \u001b[A\n",
      "joblib-1.1.1         | 387 KB    | #####7     |  58% \n",
      "\n",
      "scikit-learn-1.1.3   | 6.3 MB    | 3          |   4% \u001b[A\n",
      "joblib-1.1.1         | 387 KB    | ######2    |  62% \n",
      "\n",
      "scikit-learn-1.1.3   | 6.3 MB    | 3          |   4% \u001b[A\n",
      "\n",
      "scikit-learn-1.1.3   | 6.3 MB    | 4          |   5% \u001b[A\n",
      "joblib-1.1.1         | 387 KB    | #######    |  70% \n",
      "joblib-1.1.1         | 387 KB    | #######8   |  79% \n",
      "\n",
      "scikit-learn-1.1.3   | 6.3 MB    | 4          |   5% \u001b[A\n",
      "joblib-1.1.1         | 387 KB    | ########2  |  83% \n",
      "joblib-1.1.1         | 387 KB    | ########6  |  87% \n",
      "joblib-1.1.1         | 387 KB    | #########1 |  91% \n",
      "\n",
      "scikit-learn-1.1.3   | 6.3 MB    | 5          |   5% \u001b[A\n",
      "joblib-1.1.1         | 387 KB    | #########5 |  95% \n",
      "\n",
      "scikit-learn-1.1.3   | 6.3 MB    | 5          |   6% \u001b[A\n",
      "joblib-1.1.1         | 387 KB    | ########## | 100% \n",
      "joblib-1.1.1         | 387 KB    | ########## | 100% \n",
      "\n",
      "scikit-learn-1.1.3   | 6.3 MB    | 5          |   6% \u001b[A\n",
      "\n",
      "scikit-learn-1.1.3   | 6.3 MB    | 6          |   7% \u001b[A\n",
      "\n",
      "scikit-learn-1.1.3   | 6.3 MB    | 6          |   7% \u001b[A\n",
      "\n",
      "scikit-learn-1.1.3   | 6.3 MB    | 7          |   7% \u001b[A\n",
      "\n",
      "scikit-learn-1.1.3   | 6.3 MB    | 7          |   7% \u001b[A\n",
      "\n",
      "scikit-learn-1.1.3   | 6.3 MB    | 7          |   8% \u001b[A\n",
      "\n",
      "scikit-learn-1.1.3   | 6.3 MB    | 8          |   8% \u001b[A\n",
      "\n",
      "scikit-learn-1.1.3   | 6.3 MB    | 8          |   9% \u001b[A\n",
      "\n",
      "scikit-learn-1.1.3   | 6.3 MB    | 9          |   9% \u001b[A\n",
      "\n",
      "scikit-learn-1.1.3   | 6.3 MB    | 9          |   9% \u001b[A\n",
      "\n",
      "scikit-learn-1.1.3   | 6.3 MB    | 9          |  10% \u001b[A\n",
      "\n",
      "scikit-learn-1.1.3   | 6.3 MB    | #          |  10% \u001b[A\n",
      "\n",
      "scikit-learn-1.1.3   | 6.3 MB    | #          |  11% \u001b[A\n",
      "\n",
      "scikit-learn-1.1.3   | 6.3 MB    | #1         |  11% \u001b[A\n",
      "\n",
      "scikit-learn-1.1.3   | 6.3 MB    | #2         |  12% \u001b[A\n",
      "\n",
      "scikit-learn-1.1.3   | 6.3 MB    | #2         |  13% \u001b[A\n",
      "\n",
      "scikit-learn-1.1.3   | 6.3 MB    | #3         |  13% \u001b[A\n",
      "\n",
      "scikit-learn-1.1.3   | 6.3 MB    | #3         |  14% \u001b[A\n",
      "\n",
      "scikit-learn-1.1.3   | 6.3 MB    | #4         |  14% \u001b[A\n",
      "\n",
      "scikit-learn-1.1.3   | 6.3 MB    | #4         |  15% \u001b[A\n",
      "\n",
      "scikit-learn-1.1.3   | 6.3 MB    | #5         |  15% \u001b[A\n",
      "\n",
      "scikit-learn-1.1.3   | 6.3 MB    | #5         |  16% \u001b[A\n",
      "\n",
      "scikit-learn-1.1.3   | 6.3 MB    | #6         |  16% \u001b[A\n",
      "\n",
      "scikit-learn-1.1.3   | 6.3 MB    | #8         |  18% \u001b[A\n",
      "\n",
      "scikit-learn-1.1.3   | 6.3 MB    | #8         |  19% \u001b[A\n",
      "\n",
      "scikit-learn-1.1.3   | 6.3 MB    | #9         |  19% \u001b[A\n",
      "\n",
      "scikit-learn-1.1.3   | 6.3 MB    | #9         |  20% \u001b[A\n",
      "\n",
      "scikit-learn-1.1.3   | 6.3 MB    | ##         |  20% \u001b[A\n",
      "\n",
      "scikit-learn-1.1.3   | 6.3 MB    | ##         |  21% \u001b[A\n",
      "\n",
      "scikit-learn-1.1.3   | 6.3 MB    | ##1        |  21% \u001b[A\n",
      "\n",
      "scikit-learn-1.1.3   | 6.3 MB    | ##1        |  22% \u001b[A\n",
      "\n",
      "scikit-learn-1.1.3   | 6.3 MB    | ##2        |  22% \u001b[A\n",
      "\n",
      "scikit-learn-1.1.3   | 6.3 MB    | ##3        |  23% \u001b[A\n",
      "\n",
      "scikit-learn-1.1.3   | 6.3 MB    | ##3        |  24% \u001b[A\n",
      "\n",
      "scikit-learn-1.1.3   | 6.3 MB    | ##4        |  24% \u001b[A\n",
      "\n",
      "scikit-learn-1.1.3   | 6.3 MB    | ##5        |  25% \u001b[A\n",
      "\n",
      "scikit-learn-1.1.3   | 6.3 MB    | ##5        |  26% \u001b[A\n",
      "\n",
      "scikit-learn-1.1.3   | 6.3 MB    | ##6        |  26% \u001b[A\n",
      "\n",
      "scikit-learn-1.1.3   | 6.3 MB    | ##7        |  27% \u001b[A\n",
      "\n",
      "scikit-learn-1.1.3   | 6.3 MB    | ##7        |  28% \u001b[A\n",
      "\n",
      "scikit-learn-1.1.3   | 6.3 MB    | ##8        |  29% \u001b[A\n",
      "\n",
      "scikit-learn-1.1.3   | 6.3 MB    | ##9        |  29% \u001b[A\n",
      "\n",
      "scikit-learn-1.1.3   | 6.3 MB    | ##9        |  30% \u001b[A\n",
      "\n",
      "scikit-learn-1.1.3   | 6.3 MB    | ###        |  30% \u001b[A\n",
      "\n",
      "scikit-learn-1.1.3   | 6.3 MB    | ###        |  31% \u001b[A\n",
      "\n",
      "scikit-learn-1.1.3   | 6.3 MB    | ###1       |  31% \u001b[A\n",
      "\n",
      "scikit-learn-1.1.3   | 6.3 MB    | ###1       |  32% \u001b[A\n",
      "\n",
      "scikit-learn-1.1.3   | 6.3 MB    | ###2       |  32% \u001b[A\n",
      "\n",
      "scikit-learn-1.1.3   | 6.3 MB    | ###2       |  33% \u001b[A\n",
      "\n",
      "scikit-learn-1.1.3   | 6.3 MB    | ###3       |  33% \u001b[A\n",
      "\n",
      "scikit-learn-1.1.3   | 6.3 MB    | ###3       |  34% \u001b[A\n",
      "\n",
      "scikit-learn-1.1.3   | 6.3 MB    | ###4       |  34% \u001b[A\n",
      "\n",
      "scikit-learn-1.1.3   | 6.3 MB    | ###4       |  35% \u001b[A\n",
      "\n",
      "scikit-learn-1.1.3   | 6.3 MB    | ###5       |  35% \u001b[A\n",
      "\n",
      "scikit-learn-1.1.3   | 6.3 MB    | ###6       |  36% \u001b[A\n",
      "\n",
      "scikit-learn-1.1.3   | 6.3 MB    | ###6       |  36% \u001b[A\n",
      "\n",
      "scikit-learn-1.1.3   | 6.3 MB    | ###6       |  37% \u001b[A\n",
      "\n",
      "scikit-learn-1.1.3   | 6.3 MB    | ###7       |  37% \u001b[A\n",
      "\n",
      "scikit-learn-1.1.3   | 6.3 MB    | ###7       |  38% \u001b[A\n",
      "\n",
      "scikit-learn-1.1.3   | 6.3 MB    | ###8       |  39% \u001b[A\n",
      "\n",
      "scikit-learn-1.1.3   | 6.3 MB    | ###9       |  39% \u001b[A\n",
      "\n",
      "scikit-learn-1.1.3   | 6.3 MB    | ###9       |  40% \u001b[A\n",
      "\n",
      "scikit-learn-1.1.3   | 6.3 MB    | ####       |  40% \u001b[A\n",
      "\n",
      "scikit-learn-1.1.3   | 6.3 MB    | ####       |  41% \u001b[A\n",
      "\n",
      "scikit-learn-1.1.3   | 6.3 MB    | ####1      |  41% \u001b[A\n",
      "\n",
      "scikit-learn-1.1.3   | 6.3 MB    | ####2      |  42% \u001b[A\n",
      "\n",
      "scikit-learn-1.1.3   | 6.3 MB    | ####2      |  43% \u001b[A\n",
      "\n",
      "scikit-learn-1.1.3   | 6.3 MB    | ####4      |  44% \u001b[A\n",
      "\n",
      "scikit-learn-1.1.3   | 6.3 MB    | ####4      |  45% \u001b[A\n",
      "\n",
      "scikit-learn-1.1.3   | 6.3 MB    | ####5      |  45% \u001b[A\n",
      "\n",
      "scikit-learn-1.1.3   | 6.3 MB    | ####5      |  46% \u001b[A\n",
      "\n",
      "scikit-learn-1.1.3   | 6.3 MB    | ####6      |  46% \u001b[A\n",
      "\n",
      "scikit-learn-1.1.3   | 6.3 MB    | ####6      |  47% \u001b[A\n",
      "\n",
      "scikit-learn-1.1.3   | 6.3 MB    | ####8      |  48% \u001b[A\n",
      "\n",
      "scikit-learn-1.1.3   | 6.3 MB    | ####8      |  49% \u001b[A\n",
      "\n",
      "scikit-learn-1.1.3   | 6.3 MB    | ####9      |  49% \u001b[A\n",
      "\n",
      "scikit-learn-1.1.3   | 6.3 MB    | ####9      |  50% \u001b[A\n",
      "\n",
      "scikit-learn-1.1.3   | 6.3 MB    | #####      |  50% \u001b[A\n",
      "\n",
      "scikit-learn-1.1.3   | 6.3 MB    | #####1     |  51% \u001b[A\n",
      "\n",
      "scikit-learn-1.1.3   | 6.3 MB    | #####1     |  52% \u001b[A\n",
      "\n",
      "scikit-learn-1.1.3   | 6.3 MB    | #####2     |  52% \u001b[A\n",
      "\n",
      "scikit-learn-1.1.3   | 6.3 MB    | #####2     |  53% \u001b[A\n",
      "\n",
      "scikit-learn-1.1.3   | 6.3 MB    | #####3     |  53% \u001b[A\n",
      "\n",
      "scikit-learn-1.1.3   | 6.3 MB    | #####3     |  54% \u001b[A\n",
      "\n",
      "scikit-learn-1.1.3   | 6.3 MB    | #####4     |  54% \u001b[A\n",
      "\n",
      "scikit-learn-1.1.3   | 6.3 MB    | #####4     |  55% \u001b[A\n",
      "\n",
      "scikit-learn-1.1.3   | 6.3 MB    | #####5     |  55% \u001b[A\n",
      "\n",
      "scikit-learn-1.1.3   | 6.3 MB    | #####5     |  56% \u001b[A\n",
      "\n",
      "scikit-learn-1.1.3   | 6.3 MB    | #####6     |  56% \u001b[A\n",
      "\n",
      "scikit-learn-1.1.3   | 6.3 MB    | #####6     |  57% \u001b[A\n",
      "\n",
      "scikit-learn-1.1.3   | 6.3 MB    | #####7     |  57% \u001b[A\n",
      "\n",
      "scikit-learn-1.1.3   | 6.3 MB    | #####7     |  57% \u001b[A\n",
      "\n",
      "scikit-learn-1.1.3   | 6.3 MB    | #####8     |  58% \u001b[A\n",
      "\n",
      "scikit-learn-1.1.3   | 6.3 MB    | #####9     |  59% \u001b[A\n",
      "\n",
      "scikit-learn-1.1.3   | 6.3 MB    | #####9     |  60% \u001b[A\n",
      "\n",
      "scikit-learn-1.1.3   | 6.3 MB    | ######     |  60% \u001b[A\n",
      "\n",
      "scikit-learn-1.1.3   | 6.3 MB    | ######1    |  61% \u001b[A\n",
      "\n",
      "scikit-learn-1.1.3   | 6.3 MB    | ######2    |  62% \u001b[A\n",
      "\n",
      "scikit-learn-1.1.3   | 6.3 MB    | ######3    |  63% \u001b[A\n",
      "\n",
      "scikit-learn-1.1.3   | 6.3 MB    | ######3    |  64% \u001b[A\n",
      "\n",
      "scikit-learn-1.1.3   | 6.3 MB    | ######4    |  64% \u001b[A\n",
      "\n",
      "scikit-learn-1.1.3   | 6.3 MB    | ######4    |  65% \u001b[A\n",
      "\n",
      "scikit-learn-1.1.3   | 6.3 MB    | ######5    |  65% \u001b[A\n",
      "\n",
      "scikit-learn-1.1.3   | 6.3 MB    | ######5    |  66% \u001b[A\n",
      "\n",
      "scikit-learn-1.1.3   | 6.3 MB    | ######6    |  66% \u001b[A\n",
      "\n",
      "scikit-learn-1.1.3   | 6.3 MB    | ######6    |  67% \u001b[A\n",
      "\n",
      "scikit-learn-1.1.3   | 6.3 MB    | ######7    |  67% \u001b[A\n",
      "\n",
      "scikit-learn-1.1.3   | 6.3 MB    | ######7    |  68% \u001b[A\n",
      "\n",
      "scikit-learn-1.1.3   | 6.3 MB    | ######8    |  68% \u001b[A\n",
      "\n",
      "scikit-learn-1.1.3   | 6.3 MB    | ######8    |  69% \u001b[A\n",
      "\n",
      "scikit-learn-1.1.3   | 6.3 MB    | ######9    |  69% \u001b[A\n",
      "\n",
      "scikit-learn-1.1.3   | 6.3 MB    | ######9    |  70% \u001b[A\n",
      "\n",
      "scikit-learn-1.1.3   | 6.3 MB    | #######    |  71% \u001b[A\n",
      "\n",
      "scikit-learn-1.1.3   | 6.3 MB    | #######1   |  71% \u001b[A\n",
      "\n",
      "scikit-learn-1.1.3   | 6.3 MB    | #######1   |  72% \u001b[A\n",
      "\n",
      "scikit-learn-1.1.3   | 6.3 MB    | #######2   |  72% \u001b[A\n",
      "\n",
      "scikit-learn-1.1.3   | 6.3 MB    | #######2   |  73% \u001b[A\n",
      "\n",
      "scikit-learn-1.1.3   | 6.3 MB    | #######3   |  73% \u001b[A\n",
      "\n",
      "scikit-learn-1.1.3   | 6.3 MB    | #######3   |  74% \u001b[A\n",
      "\n",
      "scikit-learn-1.1.3   | 6.3 MB    | #######4   |  75% \u001b[A\n",
      "\n",
      "scikit-learn-1.1.3   | 6.3 MB    | #######5   |  75% \u001b[A\n",
      "\n",
      "scikit-learn-1.1.3   | 6.3 MB    | #######5   |  76% \u001b[A\n",
      "\n",
      "scikit-learn-1.1.3   | 6.3 MB    | #######6   |  76% \u001b[A\n",
      "\n",
      "scikit-learn-1.1.3   | 6.3 MB    | #######6   |  77% \u001b[A\n",
      "\n",
      "scikit-learn-1.1.3   | 6.3 MB    | #######7   |  78% \u001b[A\n",
      "\n",
      "scikit-learn-1.1.3   | 6.3 MB    | #######8   |  78% \u001b[A\n",
      "\n",
      "scikit-learn-1.1.3   | 6.3 MB    | #######8   |  79% \u001b[A\n",
      "\n",
      "scikit-learn-1.1.3   | 6.3 MB    | #######9   |  79% \u001b[A\n",
      "\n",
      "scikit-learn-1.1.3   | 6.3 MB    | #######9   |  80% \u001b[A\n",
      "\n",
      "scikit-learn-1.1.3   | 6.3 MB    | ########   |  80% \u001b[A\n",
      "\n",
      "scikit-learn-1.1.3   | 6.3 MB    | ########   |  81% \u001b[A\n",
      "\n",
      "scikit-learn-1.1.3   | 6.3 MB    | ########1  |  81% \u001b[A\n",
      "\n",
      "scikit-learn-1.1.3   | 6.3 MB    | ########1  |  82% \u001b[A\n",
      "\n",
      "scikit-learn-1.1.3   | 6.3 MB    | ########2  |  82% \u001b[A\n",
      "\n",
      "scikit-learn-1.1.3   | 6.3 MB    | ########2  |  83% \u001b[A\n",
      "\n",
      "scikit-learn-1.1.3   | 6.3 MB    | ########3  |  84% \u001b[A\n",
      "\n",
      "scikit-learn-1.1.3   | 6.3 MB    | ########4  |  84% \u001b[A\n",
      "\n",
      "scikit-learn-1.1.3   | 6.3 MB    | ########4  |  85% \u001b[A\n",
      "\n",
      "scikit-learn-1.1.3   | 6.3 MB    | ########6  |  86% \u001b[A\n",
      "\n",
      "scikit-learn-1.1.3   | 6.3 MB    | ########6  |  87% \u001b[A\n",
      "\n",
      "scikit-learn-1.1.3   | 6.3 MB    | ########7  |  87% \u001b[A\n",
      "\n",
      "scikit-learn-1.1.3   | 6.3 MB    | ########8  |  88% \u001b[A\n",
      "\n",
      "scikit-learn-1.1.3   | 6.3 MB    | ########9  |  89% \u001b[A\n",
      "\n",
      "scikit-learn-1.1.3   | 6.3 MB    | ########9  |  90% \u001b[A\n",
      "\n",
      "scikit-learn-1.1.3   | 6.3 MB    | #########  |  91% \u001b[A\n",
      "\n",
      "scikit-learn-1.1.3   | 6.3 MB    | #########1 |  91% \u001b[A\n",
      "\n",
      "scikit-learn-1.1.3   | 6.3 MB    | #########1 |  92% \u001b[A\n",
      "\n",
      "scikit-learn-1.1.3   | 6.3 MB    | #########2 |  93% \u001b[A\n",
      "\n",
      "scikit-learn-1.1.3   | 6.3 MB    | #########3 |  94% \u001b[A\n",
      "\n",
      "scikit-learn-1.1.3   | 6.3 MB    | #########4 |  94% \u001b[A\n",
      "\n",
      "scikit-learn-1.1.3   | 6.3 MB    | #########5 |  95% \u001b[A\n",
      "\n",
      "scikit-learn-1.1.3   | 6.3 MB    | #########5 |  96% \u001b[A\n",
      "\n",
      "scikit-learn-1.1.3   | 6.3 MB    | #########6 |  96% \u001b[A\n",
      "\n",
      "scikit-learn-1.1.3   | 6.3 MB    | #########6 |  96% \u001b[A\n",
      "\n",
      "scikit-learn-1.1.3   | 6.3 MB    | #########6 |  97% \u001b[A\n",
      "\n",
      "scikit-learn-1.1.3   | 6.3 MB    | #########7 |  97% \u001b[A\n",
      "\n",
      "scikit-learn-1.1.3   | 6.3 MB    | #########7 |  97% \u001b[A\n",
      "\n",
      "scikit-learn-1.1.3   | 6.3 MB    | #########9 |  99% \u001b[A\n",
      "\n",
      "scikit-learn-1.1.3   | 6.3 MB    | #########9 | 100% \u001b[A\n",
      "\n",
      "scikit-learn-1.1.3   | 6.3 MB    | ########## | 100% \u001b[A\n",
      "                                                     \n",
      "\n",
      "\n",
      "                                                     \u001b[A\n",
      "\n",
      "Preparing transaction: ...working... done\n",
      "Verifying transaction: ...working... done\n",
      "Executing transaction: ...working... \n",
      "\n",
      "    Windows 64-bit packages of scikit-learn can be accelerated using scikit-learn-intelex.\n",
      "    More details are available here: https://intel.github.io/scikit-learn-intelex\n",
      "\n",
      "    For example:\n",
      "\n",
      "        $ conda install scikit-learn-intelex\n",
      "        $ python -m sklearnex my_application.py\n",
      "\n",
      "\n",
      "done\n"
     ]
    }
   ],
   "source": [
    "conda install scikit-learn"
   ]
  },
  {
   "cell_type": "code",
   "execution_count": 6,
   "id": "f4d44052",
   "metadata": {},
   "outputs": [
    {
     "name": "stdout",
     "output_type": "stream",
     "text": [
      "Requirement already satisfied: scikit-learn in c:\\programdata\\anaconda3\\envs\\tensorflow\\lib\\site-packages (1.1.3)\n",
      "Collecting scikit-learn\n",
      "  Using cached scikit_learn-1.2.0-cp310-cp310-win_amd64.whl (8.2 MB)\n",
      "Requirement already satisfied: scipy in c:\\programdata\\anaconda3\\envs\\tensorflow\\lib\\site-packages (1.9.3)\n",
      "Requirement already satisfied: matplotlib in c:\\programdata\\anaconda3\\envs\\tensorflow\\lib\\site-packages (3.6.2)\n",
      "Requirement already satisfied: threadpoolctl>=2.0.0 in c:\\programdata\\anaconda3\\envs\\tensorflow\\lib\\site-packages (from scikit-learn) (2.2.0)\n",
      "Requirement already satisfied: numpy>=1.17.3 in c:\\programdata\\anaconda3\\envs\\tensorflow\\lib\\site-packages (from scikit-learn) (1.23.4)\n",
      "Requirement already satisfied: joblib>=1.1.1 in c:\\programdata\\anaconda3\\envs\\tensorflow\\lib\\site-packages (from scikit-learn) (1.1.1)\n",
      "Requirement already satisfied: fonttools>=4.22.0 in c:\\programdata\\anaconda3\\envs\\tensorflow\\lib\\site-packages (from matplotlib) (4.38.0)\n",
      "Requirement already satisfied: pyparsing>=2.2.1 in c:\\programdata\\anaconda3\\envs\\tensorflow\\lib\\site-packages (from matplotlib) (3.0.9)\n",
      "Requirement already satisfied: contourpy>=1.0.1 in c:\\programdata\\anaconda3\\envs\\tensorflow\\lib\\site-packages (from matplotlib) (1.0.6)\n",
      "Requirement already satisfied: kiwisolver>=1.0.1 in c:\\programdata\\anaconda3\\envs\\tensorflow\\lib\\site-packages (from matplotlib) (1.4.4)\n",
      "Requirement already satisfied: packaging>=20.0 in c:\\programdata\\anaconda3\\envs\\tensorflow\\lib\\site-packages (from matplotlib) (22.0)\n",
      "Requirement already satisfied: python-dateutil>=2.7 in c:\\programdata\\anaconda3\\envs\\tensorflow\\lib\\site-packages (from matplotlib) (2.8.2)\n",
      "Requirement already satisfied: cycler>=0.10 in c:\\programdata\\anaconda3\\envs\\tensorflow\\lib\\site-packages (from matplotlib) (0.11.0)\n",
      "Requirement already satisfied: pillow>=6.2.0 in c:\\programdata\\anaconda3\\envs\\tensorflow\\lib\\site-packages (from matplotlib) (9.3.0)\n",
      "Requirement already satisfied: six>=1.5 in c:\\programdata\\anaconda3\\envs\\tensorflow\\lib\\site-packages (from python-dateutil>=2.7->matplotlib) (1.16.0)\n",
      "Installing collected packages: scikit-learn\n",
      "  Attempting uninstall: scikit-learn\n",
      "    Found existing installation: scikit-learn 1.1.3\n",
      "    Uninstalling scikit-learn-1.1.3:\n",
      "      Successfully uninstalled scikit-learn-1.1.3\n",
      "Successfully installed scikit-learn-1.2.0\n",
      "Note: you may need to restart the kernel to use updated packages.\n"
     ]
    }
   ],
   "source": [
    "pip install -U scikit-learn scipy matplotlib"
   ]
  },
  {
   "cell_type": "code",
   "execution_count": 7,
   "id": "455d708b",
   "metadata": {},
   "outputs": [],
   "source": [
    "import pandas as pd\n",
    "import numpy as np\n",
    "import matplotlib\n",
    "import matplotlib.pyplot as plt\n",
    "import seaborn as sns\n",
    "matplotlib.style.use('ggplot')\n",
    "from sklearn.preprocessing import MinMaxScaler"
   ]
  },
  {
   "cell_type": "code",
   "execution_count": 8,
   "id": "8b99f859",
   "metadata": {},
   "outputs": [],
   "source": [
    "df = pd.DataFrame({\n",
    "    # positive skew\n",
    "    'x1': np.random.chisquare(8, 1000),\n",
    "    # negative skew \n",
    "    'x2': np.random.beta(8, 2, 1000) * 40,\n",
    "    # no skew\n",
    "    'x3': np.random.normal(50, 3, 1000)\n",
    "})\n"
   ]
  },
  {
   "cell_type": "code",
   "execution_count": 35,
   "id": "522f5a29",
   "metadata": {},
   "outputs": [
    {
     "data": {
      "text/html": [
       "<div>\n",
       "<style scoped>\n",
       "    .dataframe tbody tr th:only-of-type {\n",
       "        vertical-align: middle;\n",
       "    }\n",
       "\n",
       "    .dataframe tbody tr th {\n",
       "        vertical-align: top;\n",
       "    }\n",
       "\n",
       "    .dataframe thead th {\n",
       "        text-align: right;\n",
       "    }\n",
       "</style>\n",
       "<table border=\"1\" class=\"dataframe\">\n",
       "  <thead>\n",
       "    <tr style=\"text-align: right;\">\n",
       "      <th></th>\n",
       "      <th>x1</th>\n",
       "      <th>x2</th>\n",
       "      <th>x3</th>\n",
       "    </tr>\n",
       "  </thead>\n",
       "  <tbody>\n",
       "    <tr>\n",
       "      <th>0</th>\n",
       "      <td>9.778189</td>\n",
       "      <td>31.126349</td>\n",
       "      <td>54.811387</td>\n",
       "    </tr>\n",
       "    <tr>\n",
       "      <th>1</th>\n",
       "      <td>12.309329</td>\n",
       "      <td>36.266047</td>\n",
       "      <td>52.645333</td>\n",
       "    </tr>\n",
       "    <tr>\n",
       "      <th>2</th>\n",
       "      <td>5.722365</td>\n",
       "      <td>38.844193</td>\n",
       "      <td>56.854792</td>\n",
       "    </tr>\n",
       "    <tr>\n",
       "      <th>3</th>\n",
       "      <td>6.394730</td>\n",
       "      <td>36.440591</td>\n",
       "      <td>50.999107</td>\n",
       "    </tr>\n",
       "    <tr>\n",
       "      <th>4</th>\n",
       "      <td>2.813071</td>\n",
       "      <td>36.631704</td>\n",
       "      <td>46.438033</td>\n",
       "    </tr>\n",
       "  </tbody>\n",
       "</table>\n",
       "</div>"
      ],
      "text/plain": [
       "          x1         x2         x3\n",
       "0   9.778189  31.126349  54.811387\n",
       "1  12.309329  36.266047  52.645333\n",
       "2   5.722365  38.844193  56.854792\n",
       "3   6.394730  36.440591  50.999107\n",
       "4   2.813071  36.631704  46.438033"
      ]
     },
     "execution_count": 35,
     "metadata": {},
     "output_type": "execute_result"
    }
   ],
   "source": [
    "df.head()"
   ]
  },
  {
   "cell_type": "code",
   "execution_count": 9,
   "id": "f262ae7c",
   "metadata": {},
   "outputs": [],
   "source": [
    "scaler = MinMaxScaler()\n",
    "scaled_df = scaler.fit_transform(df)\n",
    "scaled_df = pd.DataFrame(scaled_df, columns=['x1', 'x2', 'x3'])\n"
   ]
  },
  {
   "cell_type": "code",
   "execution_count": 10,
   "id": "6430d340",
   "metadata": {},
   "outputs": [
    {
     "data": {
      "image/png": "[encoded data removed]",
      "text/plain": [
       "<Figure size 600x500 with 2 Axes>"
      ]
     },
     "metadata": {},
     "output_type": "display_data"
    }
   ],
   "source": [
    "fig, (ax1, ax2) = plt.subplots(ncols=2, figsize=(6, 5))\n",
    "ax1.set_title('Before Scaling')\n",
    "sns.kdeplot(df['x1'], ax=ax1)\n",
    "sns.kdeplot(df['x2'], ax=ax1)\n",
    "sns.kdeplot(df['x3'], ax=ax1)\n",
    "ax2.set_title('After Min-Max Scaling')\n",
    "sns.kdeplot(scaled_df['x1'], ax=ax2)\n",
    "sns.kdeplot(scaled_df['x2'], ax=ax2)\n",
    "sns.kdeplot(scaled_df['x3'], ax=ax2)\n",
    "plt.show()"
   ]
  },
  {
   "cell_type": "code",
   "execution_count": 11,
   "id": "cb4f6c24",
   "metadata": {},
   "outputs": [],
   "source": [
    "import numpy as np\n",
    "import pandas as pd\n",
    "import math\n",
    "import matplotlib.pyplot as plt\n",
    "from sklearn.preprocessing import MinMaxScaler\n",
    "from sklearn.metrics import mean_squared_error\n",
    "from keras.models import Sequential\n",
    "from keras.layers import Dense, Activation\n",
    "from keras.layers import LSTM"
   ]
  },
  {
   "cell_type": "code",
   "execution_count": 12,
   "id": "40d97c05",
   "metadata": {},
   "outputs": [],
   "source": [
    "np.random.seed(7)\n"
   ]
  },
  {
   "cell_type": "code",
   "execution_count": 16,
   "id": "00dd84a6",
   "metadata": {},
   "outputs": [],
   "source": [
    "dataset = pd.read_csv('EOD-AAPL_in.csv', usecols=[1,2,3,4])\n",
    "dataset = dataset.reindex(index = dataset.index[::-1])"
   ]
  },
  {
   "cell_type": "code",
   "execution_count": 17,
   "id": "035e5cc9",
   "metadata": {},
   "outputs": [],
   "source": [
    "obs = np.arange(1, len(dataset) + 1, 1)\n"
   ]
  },
  {
   "cell_type": "code",
   "execution_count": 18,
   "id": "d40d19f7",
   "metadata": {},
   "outputs": [],
   "source": [
    "OHLC_avg = dataset.mean(axis = 1)\n",
    "HLC_avg = dataset[['High', 'Low', 'Close']].mean(axis = 1)\n",
    "close_val = dataset[['Close']]"
   ]
  },
  {
   "cell_type": "code",
   "execution_count": 19,
   "id": "ff246c2f",
   "metadata": {},
   "outputs": [
    {
     "data": {
      "image/png": "[encoded data removed]",
      "text/plain": [
       "<Figure size 640x480 with 1 Axes>"
      ]
     },
     "metadata": {},
     "output_type": "display_data"
    }
   ],
   "source": [
    "# PLOTTING ALL INDICATORS IN ONE PLOT\n",
    "plt.plot(obs, OHLC_avg, 'r', label = 'OHLC avg')\n",
    "plt.plot(obs, HLC_avg, 'b', label = 'HLC avg')\n",
    "plt.plot(obs, close_val, 'g', label = 'Closing price')\n",
    "plt.legend(loc = 'upper right')\n",
    "plt.show()"
   ]
  },
  {
   "cell_type": "code",
   "execution_count": 20,
   "id": "d64eb357",
   "metadata": {},
   "outputs": [],
   "source": [
    "# PREPARATION OF TIME SERIES DATASET\n",
    "OHLC_avg = np.reshape(OHLC_avg.values, (len(OHLC_avg),1)) # 1664\n",
    "scaler = MinMaxScaler(feature_range=(0, 1))\n",
    "OHLC_avg = scaler.fit_transform(OHLC_avg)"
   ]
  },
  {
   "cell_type": "code",
   "execution_count": 21,
   "id": "889ccf51",
   "metadata": {},
   "outputs": [],
   "source": [
    "# TRAIN-TEST SPLIT\n",
    "train_OHLC = int(len(OHLC_avg) * 0.75)\n",
    "test_OHLC = len(OHLC_avg) - train_OHLC\n",
    "train_OHLC, test_OHLC = OHLC_avg[0:train_OHLC,:], OHLC_avg[train_OHLC:len(OHLC_avg),:]"
   ]
  },
  {
   "cell_type": "code",
   "execution_count": 22,
   "id": "5f8bd495",
   "metadata": {},
   "outputs": [],
   "source": [
    "# FUNCTION TO CREATE 1D DATA INTO TIME SERIES DATASET\n",
    "def new_dataset(dataset, step_size):\n",
    "\tdata_X, data_Y = [], []\n",
    "\tfor i in range(len(dataset)-step_size-1):\n",
    "\t\ta = dataset[i:(i+step_size), 0]\n",
    "\t\tdata_X.append(a)\n",
    "\t\tdata_Y.append(dataset[i + step_size, 0])\n",
    "\treturn np.array(data_X), np.array(data_Y)\n",
    "# THIS FUNCTION CAN BE USED TO CREATE A TIME SERIES DATASET FROM ANY 1D ARRAY"
   ]
  },
  {
   "cell_type": "code",
   "execution_count": 23,
   "id": "a8f78e0a",
   "metadata": {},
   "outputs": [],
   "source": [
    "# TIME-SERIES DATASET (FOR TIME T, VALUES FOR TIME T+1)\n",
    "trainX, trainY = new_dataset(train_OHLC, 1)\n",
    "testX, testY = new_dataset(test_OHLC, 1)"
   ]
  },
  {
   "cell_type": "code",
   "execution_count": 24,
   "id": "eec8eee2",
   "metadata": {},
   "outputs": [],
   "source": [
    "# RESHAPING TRAIN AND TEST DATA\n",
    "trainX = np.reshape(trainX, (trainX.shape[0], 1, trainX.shape[1]))\n",
    "testX = np.reshape(testX, (testX.shape[0], 1, testX.shape[1]))\n",
    "step_size = 1"
   ]
  },
  {
   "cell_type": "code",
   "execution_count": 25,
   "id": "d5972509",
   "metadata": {},
   "outputs": [],
   "source": [
    "# LSTM MODEL\n",
    "model = Sequential()\n",
    "model.add(LSTM(32, input_shape=(1, step_size), return_sequences = True))\n",
    "model.add(LSTM(16))\n",
    "model.add(Dense(1))\n",
    "model.add(Activation('linear'))"
   ]
  },
  {
   "cell_type": "code",
   "execution_count": 26,
   "id": "362d3bbc",
   "metadata": {},
   "outputs": [
    {
     "name": "stdout",
     "output_type": "stream",
     "text": [
      "Epoch 1/10\n",
      "7109/7109 - 39s - loss: 0.0018 - 39s/epoch - 5ms/step\n",
      "Epoch 2/10\n",
      "7109/7109 - 30s - loss: 1.6796e-04 - 30s/epoch - 4ms/step\n",
      "Epoch 3/10\n",
      "7109/7109 - 29s - loss: 1.6488e-04 - 29s/epoch - 4ms/step\n",
      "Epoch 4/10\n",
      "7109/7109 - 30s - loss: 1.6120e-04 - 30s/epoch - 4ms/step\n",
      "Epoch 5/10\n",
      "7109/7109 - 29s - loss: 1.6311e-04 - 29s/epoch - 4ms/step\n",
      "Epoch 6/10\n",
      "7109/7109 - 29s - loss: 1.6470e-04 - 29s/epoch - 4ms/step\n",
      "Epoch 7/10\n",
      "7109/7109 - 29s - loss: 1.6514e-04 - 29s/epoch - 4ms/step\n",
      "Epoch 8/10\n",
      "7109/7109 - 29s - loss: 1.5911e-04 - 29s/epoch - 4ms/step\n",
      "Epoch 9/10\n",
      "7109/7109 - 29s - loss: 1.5724e-04 - 29s/epoch - 4ms/step\n",
      "Epoch 10/10\n",
      "7109/7109 - 29s - loss: 1.5652e-04 - 29s/epoch - 4ms/step\n"
     ]
    },
    {
     "data": {
      "text/plain": [
       "<keras.callbacks.History at 0x1b1fefb0cd0>"
      ]
     },
     "execution_count": 26,
     "metadata": {},
     "output_type": "execute_result"
    }
   ],
   "source": [
    "# MODEL COMPILING AND TRAINING\n",
    "model.compile(loss='mean_squared_error', optimizer='adam') # Try SGD, adam, adagrad and compare!!!\n",
    "model.fit(trainX, trainY, epochs=10, batch_size=1, verbose=2)"
   ]
  },
  {
   "cell_type": "code",
   "execution_count": 27,
   "id": "f04e0052",
   "metadata": {},
   "outputs": [
    {
     "name": "stdout",
     "output_type": "stream",
     "text": [
      "223/223 [==============================] - 4s 3ms/step\n",
      "75/75 [==============================] - 0s 3ms/step\n"
     ]
    }
   ],
   "source": [
    "# PREDICTION\n",
    "trainPredict = model.predict(trainX)\n",
    "testPredict = model.predict(testX)"
   ]
  },
  {
   "cell_type": "code",
   "execution_count": 28,
   "id": "2aff00f1",
   "metadata": {},
   "outputs": [],
   "source": [
    "# DE-NORMALIZING FOR PLOTTING\n",
    "trainPredict = scaler.inverse_transform(trainPredict)\n",
    "trainY = scaler.inverse_transform([trainY])\n",
    "testPredict = scaler.inverse_transform(testPredict)\n",
    "testY = scaler.inverse_transform([testY])"
   ]
  },
  {
   "cell_type": "code",
   "execution_count": 29,
   "id": "c6ce18c9",
   "metadata": {},
   "outputs": [
    {
     "name": "stdout",
     "output_type": "stream",
     "text": [
      "Train RMSE: 7.43\n"
     ]
    }
   ],
   "source": [
    "# TRAINING RMSE\n",
    "trainScore = math.sqrt(mean_squared_error(trainY[0], trainPredict[:,0]))\n",
    "print('Train RMSE: %.2f' % (trainScore))"
   ]
  },
  {
   "cell_type": "code",
   "execution_count": 30,
   "id": "3d27dc9f",
   "metadata": {},
   "outputs": [
    {
     "name": "stdout",
     "output_type": "stream",
     "text": [
      "Test RMSE: 1.71\n"
     ]
    }
   ],
   "source": [
    "# TEST RMSE\n",
    "testScore = math.sqrt(mean_squared_error(testY[0], testPredict[:,0]))\n",
    "print('Test RMSE: %.2f' % (testScore))"
   ]
  },
  {
   "cell_type": "code",
   "execution_count": 31,
   "id": "278a1b72",
   "metadata": {},
   "outputs": [],
   "source": [
    "# CREATING SIMILAR DATASET TO PLOT TRAINING PREDICTIONS\n",
    "trainPredictPlot = np.empty_like(OHLC_avg)\n",
    "trainPredictPlot[:, :] = np.nan\n",
    "trainPredictPlot[step_size:len(trainPredict)+step_size, :] = trainPredict"
   ]
  },
  {
   "cell_type": "code",
   "execution_count": 32,
   "id": "635394cb",
   "metadata": {},
   "outputs": [],
   "source": [
    "# CREATING SIMILAR DATASSET TO PLOT TEST PREDICTIONS\n",
    "testPredictPlot = np.empty_like(OHLC_avg)\n",
    "testPredictPlot[:, :] = np.nan\n",
    "testPredictPlot[len(trainPredict)+(step_size*2)+1:len(OHLC_avg)-1, :] = testPredict"
   ]
  },
  {
   "cell_type": "code",
   "execution_count": 33,
   "id": "92707e54",
   "metadata": {},
   "outputs": [],
   "source": [
    "# DE-NORMALIZING MAIN DATASET \n",
    "OHLC_avg = scaler.inverse_transform(OHLC_avg)"
   ]
  },
  {
   "cell_type": "code",
   "execution_count": 34,
   "id": "7f3da755",
   "metadata": {},
   "outputs": [
    {
     "data": {
      "image/png": "[encoded data removed]",
      "text/plain": [
       "<Figure size 640x480 with 1 Axes>"
      ]
     },
     "metadata": {},
     "output_type": "display_data"
    }
   ],
   "source": [
    "# PLOT OF MAIN OHLC VALUES, TRAIN PREDICTIONS AND TEST PREDICTIONS\n",
    "plt.plot(OHLC_avg, 'g', label = 'original dataset')\n",
    "plt.plot(trainPredictPlot, 'r', label = 'training set')\n",
    "plt.plot(testPredictPlot, 'b', label = 'predicted stock price/test set')\n",
    "plt.legend(loc = 'upper right')\n",
    "plt.xlabel('Time in Days')\n",
    "plt.ylabel('OHLC Value of Apple Stocks')\n",
    "plt.show()"
   ]
  },
  {
   "cell_type": "code",
   "execution_count": null,
   "id": "a8053e21",
   "metadata": {},
   "outputs": [],
   "source": []
  }
 ],
 "metadata": {
  "kernelspec": {
   "display_name": "Python 3 (ipykernel)",
   "language": "python",
   "name": "python3"
  },
  "language_info": {
   "codemirror_mode": {
    "name": "ipython",
    "version": 3
   },
   "file_extension": ".py",
   "mimetype": "text/x-python",
   "name": "python",
   "nbconvert_exporter": "python",
   "pygments_lexer": "ipython3",
   "version": "3.9.12"
  }
 },
 "nbformat": 4,
 "nbformat_minor": 5
}
